{
 "cells": [
  {
   "cell_type": "code",
   "execution_count": 1,
   "id": "26183cb9",
   "metadata": {},
   "outputs": [
    {
     "name": "stderr",
     "output_type": "stream",
     "text": [
      "2023-06-21 16:16:41.037904: I tensorflow/core/platform/cpu_feature_guard.cc:193] This TensorFlow binary is optimized with oneAPI Deep Neural Network Library (oneDNN) to use the following CPU instructions in performance-critical operations:  AVX2 FMA\n",
      "To enable them in other operations, rebuild TensorFlow with the appropriate compiler flags.\n"
     ]
    }
   ],
   "source": [
    "import pathlib\n",
    "import pprint\n",
    "\n",
    "import tensorflow as tf\n",
    "from absl import logging\n",
    "from tfx import v1 as tfx\n",
    "from tfx.components import ExampleValidator\n",
    "from tfx.components import SchemaGen\n",
    "from tfx.components import StatisticsGen\n",
    "from tfx.proto import example_gen_pb2\n",
    "from tfx.v1 import proto\n",
    "\n",
    "from mymllib import Utils, rawdata_duckdb_sql\n",
    "from mymllib.tfx.example_gen.duckdb.component import DuckDBExampleGen\n",
    "\n",
    "pp = pprint.PrettyPrinter()\n",
    "logging.set_verbosity(logging.INFO)  # Set default logging level."
   ]
  },
  {
   "cell_type": "code",
   "execution_count": 2,
   "id": "54c7def8",
   "metadata": {},
   "outputs": [
    {
     "name": "stdout",
     "output_type": "stream",
     "text": [
      "TensorFlow version: 2.10.1\n",
      "TFX version: 1.11.0\n"
     ]
    }
   ],
   "source": [
    "print('TensorFlow version: {}'.format(tf.__version__))\n",
    "print('TFX version: {}'.format(tfx.__version__))"
   ]
  },
  {
   "cell_type": "code",
   "execution_count": 3,
   "id": "b47f6da6",
   "metadata": {},
   "outputs": [
    {
     "name": "stdout",
     "output_type": "stream",
     "text": [
      "Data dir: /Users/ismailsimsek/development/StoreSalesTimeSeriesForecasting/data\n",
      "tfx dir: /Users/ismailsimsek/development/StoreSalesTimeSeriesForecasting/out/tfx/store-sales-time-series-forecasting\n",
      "Pipelines root: /Users/ismailsimsek/development/StoreSalesTimeSeriesForecasting/out/tfx/store-sales-time-series-forecasting/pipelines\n"
     ]
    }
   ],
   "source": [
    "###################################################################################################################\n",
    "COMPETITION = 'store-sales-time-series-forecasting'\n",
    "PIPELINE_NAME = COMPETITION\n",
    "CURRENT_DIR: pathlib.Path = pathlib.Path(globals()['_dh'][0]) if '_dh' in globals() else pathlib.Path(__file__).parent\n",
    "DATA_DIR = CURRENT_DIR.joinpath(\"data\")\n",
    "TFX_DIR = CURRENT_DIR.joinpath(\"out/tfx\").joinpath(PIPELINE_NAME)\n",
    "PIPELINE_ROOT = TFX_DIR.joinpath('pipelines')\n",
    "METADATA_PATH = TFX_DIR.joinpath('metadata.db')\n",
    "SERVING_MODEL_DIR = TFX_DIR.joinpath('serving_model')\n",
    "###########################Set up variables#####################################################################\n",
    "print(\"Data dir: %s\" % DATA_DIR)\n",
    "print(\"tfx dir: %s\" % TFX_DIR)\n",
    "print(\"Pipelines root: %s\" % PIPELINE_ROOT)"
   ]
  },
  {
   "cell_type": "code",
   "execution_count": 4,
   "id": "85552eee",
   "metadata": {},
   "outputs": [],
   "source": [
    "Utils.download(datadir=DATA_DIR, competition=COMPETITION)"
   ]
  },
  {
   "cell_type": "code",
   "execution_count": 5,
   "id": "55421c3b",
   "metadata": {},
   "outputs": [],
   "source": [
    "from tfx.orchestration.experimental.interactive.interactive_context import InteractiveContext\n",
    "from tfx.orchestration import metadata\n",
    "# Declare the InteractiveContext and use a local sqlite file as the metadata store.\n",
    "metadata_connection_config = metadata.sqlite_metadata_connection_config(METADATA_PATH.as_posix())\n",
    "context = InteractiveContext(pipeline_root=PIPELINE_ROOT.as_posix(), \n",
    "                             metadata_connection_config=metadata_connection_config\n",
    "                            )"
   ]
  },
  {
   "cell_type": "code",
   "execution_count": 6,
   "id": "0ec4677e",
   "metadata": {},
   "outputs": [],
   "source": [
    "components = []\n",
    "output = proto.Output(\n",
    "    split_config=example_gen_pb2.SplitConfig(splits=[\n",
    "        proto.SplitConfig.Split(name='train', hash_buckets=8),\n",
    "        proto.SplitConfig.Split(name='eval', hash_buckets=2)\n",
    "    ]))\n",
    "example_gen = DuckDBExampleGen(query=rawdata_duckdb_sql(data=\"train\"), output_config=output)\n",
    "components.append(example_gen)"
   ]
  },
  {
   "cell_type": "code",
   "execution_count": 7,
   "id": "dc7eb819",
   "metadata": {
    "scrolled": false
   },
   "outputs": [
    {
     "name": "stderr",
     "output_type": "stream",
     "text": [
      "INFO:absl:Running driver for DuckDBExampleGen\n",
      "INFO:absl:MetadataStore with DB connection initialized\n",
      "INFO:absl:Running executor for DuckDBExampleGen\n",
      "INFO:absl:Generating examples.\n"
     ]
    },
    {
     "data": {
      "application/javascript": [
       "\n",
       "        if (typeof window.interactive_beam_jquery == 'undefined') {\n",
       "          var jqueryScript = document.createElement('script');\n",
       "          jqueryScript.src = 'https://code.jquery.com/jquery-3.4.1.slim.min.js';\n",
       "          jqueryScript.type = 'text/javascript';\n",
       "          jqueryScript.onload = function() {\n",
       "            var datatableScript = document.createElement('script');\n",
       "            datatableScript.src = 'https://cdn.datatables.net/1.10.20/js/jquery.dataTables.min.js';\n",
       "            datatableScript.type = 'text/javascript';\n",
       "            datatableScript.onload = function() {\n",
       "              window.interactive_beam_jquery = jQuery.noConflict(true);\n",
       "              window.interactive_beam_jquery(document).ready(function($){\n",
       "                \n",
       "              });\n",
       "            }\n",
       "            document.head.appendChild(datatableScript);\n",
       "          };\n",
       "          document.head.appendChild(jqueryScript);\n",
       "        } else {\n",
       "          window.interactive_beam_jquery(document).ready(function($){\n",
       "            \n",
       "          });\n",
       "        }"
      ]
     },
     "metadata": {},
     "output_type": "display_data"
    },
    {
     "data": {
      "application/vnd.jupyter.widget-view+json": {
       "model_id": "",
       "version_major": 2,
       "version_minor": 0
      },
      "text/plain": [
       "FloatProgress(value=0.0, layout=Layout(width='100%'), style=ProgressStyle(bar_color='black'))"
      ]
     },
     "metadata": {},
     "output_type": "display_data"
    },
    {
     "name": "stderr",
     "output_type": "stream",
     "text": [
      "\n",
      "KeyboardInterrupt\n",
      "\n"
     ]
    }
   ],
   "source": [
    "context.run(example_gen, enable_cache=True)"
   ]
  },
  {
   "cell_type": "code",
   "execution_count": null,
   "id": "edabc978",
   "metadata": {
    "scrolled": true
   },
   "outputs": [],
   "source": [
    "statistics_gen = StatisticsGen(examples=example_gen.outputs['examples'])\n",
    "context.run(statistics_gen, enable_cache=True)"
   ]
  },
  {
   "cell_type": "code",
   "execution_count": null,
   "id": "644e1f1e",
   "metadata": {},
   "outputs": [],
   "source": [
    "context.show(statistics_gen.outputs['statistics'])"
   ]
  },
  {
   "cell_type": "code",
   "execution_count": null,
   "id": "b17efbbb",
   "metadata": {},
   "outputs": [],
   "source": []
  },
  {
   "cell_type": "code",
   "execution_count": null,
   "id": "5ed9dc61",
   "metadata": {
    "scrolled": true
   },
   "outputs": [],
   "source": [
    "schema_gen = SchemaGen(statistics=statistics_gen.outputs['statistics'], infer_feature_shape=True)\n",
    "context.run(schema_gen, enable_cache=True)"
   ]
  },
  {
   "cell_type": "code",
   "execution_count": null,
   "id": "f11528e5",
   "metadata": {},
   "outputs": [],
   "source": [
    "from tfx.components import ExampleValidator\n",
    "\n",
    "example_validator = ExampleValidator(\n",
    "  statistics=statistics_gen.outputs['statistics'],\n",
    "  schema=schema_gen.outputs['schema']\n",
    ")\n",
    "context.run(example_validator)\n"
   ]
  },
  {
   "cell_type": "code",
   "execution_count": null,
   "id": "805aa1d7",
   "metadata": {},
   "outputs": [],
   "source": [
    "import tensorflow_data_validation as tfdv\n",
    "\n",
    "# stats = tfdv.generate_statistics_from_tfrecord(data_location=path)\n"
   ]
  }
 ],
 "metadata": {
  "kernelspec": {
   "display_name": "Python 3 (ipykernel)",
   "language": "python",
   "name": "python3"
  },
  "language_info": {
   "codemirror_mode": {
    "name": "ipython",
    "version": 3
   },
   "file_extension": ".py",
   "mimetype": "text/x-python",
   "name": "python",
   "nbconvert_exporter": "python",
   "pygments_lexer": "ipython3",
   "version": "3.8.16"
  }
 },
 "nbformat": 4,
 "nbformat_minor": 5
}
