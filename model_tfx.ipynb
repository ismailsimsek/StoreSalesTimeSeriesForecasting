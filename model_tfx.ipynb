{
 "cells": [
  {
   "cell_type": "code",
   "execution_count": 1,
   "id": "26183cb9",
   "metadata": {},
   "outputs": [
    {
     "name": "stderr",
     "output_type": "stream",
     "text": [
      "2023-06-15 20:23:41.682399: I tensorflow/core/platform/cpu_feature_guard.cc:193] This TensorFlow binary is optimized with oneAPI Deep Neural Network Library (oneDNN) to use the following CPU instructions in performance-critical operations:  AVX2 FMA\n",
      "To enable them in other operations, rebuild TensorFlow with the appropriate compiler flags.\n"
     ]
    }
   ],
   "source": [
    "import pathlib\n",
    "\n",
    "import tensorflow as tf\n",
    "from absl import logging\n",
    "from tfx import v1 as tfx\n",
    "from tfx.v1 import proto\n",
    "from tfx.proto import example_gen_pb2\n",
    "from tfx.v1.components import ExampleValidator\n",
    "from tfx.v1.components import SchemaGen\n",
    "from tfx.v1.components import StatisticsGen\n",
    "from tfx.components import CsvExampleGen\n",
    "from tfx.components import ExampleValidator\n",
    "from tfx.components import SchemaGen\n",
    "from tfx.components import StatisticsGen\n",
    "from tfx.components import Transform\n",
    "from tfx.orchestration.experimental.interactive.interactive_context import InteractiveContext\n",
    "from google.protobuf.json_format import MessageToDict"
   ]
  },
  {
   "cell_type": "code",
   "execution_count": 2,
   "id": "6dd7bc27",
   "metadata": {},
   "outputs": [],
   "source": [
    "import os\n",
    "import pprint\n",
    "pp = pprint.PrettyPrinter()\n",
    "from mymllib import Utils, rawdata_duckdb_sql\n",
    "from mymllib.tfx.example_gen.duckdb.component import DuckDBExampleGen\n",
    "logging.set_verbosity(logging.INFO)  # Set default logging level."
   ]
  },
  {
   "cell_type": "code",
   "execution_count": 3,
   "id": "54c7def8",
   "metadata": {},
   "outputs": [
    {
     "name": "stdout",
     "output_type": "stream",
     "text": [
      "TensorFlow version: 2.10.1\n",
      "TFX version: 1.11.0\n"
     ]
    }
   ],
   "source": [
    "print('TensorFlow version: {}'.format(tf.__version__))\n",
    "print('TFX version: {}'.format(tfx.__version__))"
   ]
  },
  {
   "cell_type": "code",
   "execution_count": 4,
   "id": "b47f6da6",
   "metadata": {},
   "outputs": [
    {
     "name": "stdout",
     "output_type": "stream",
     "text": [
      "Data dir: /Users/ismailsimsek/development/StoreSalesTimeSeriesForecasting/data\n",
      "tfx dir: /Users/ismailsimsek/development/StoreSalesTimeSeriesForecasting/out/tfx/store-sales-time-series-forecasting\n",
      "Pipelines root: /Users/ismailsimsek/development/StoreSalesTimeSeriesForecasting/out/tfx/store-sales-time-series-forecasting/pipelines\n"
     ]
    }
   ],
   "source": [
    "###################################################################################################################\n",
    "COMPETITION = 'store-sales-time-series-forecasting'\n",
    "PIPELINE_NAME = COMPETITION\n",
    "########################### Set up variables ####################################################################\n",
    "CURRENT_DIR = globals()['_dh'][0] if '_dh' in globals() else pathlib.Path(__file__).parent.as_posix()\n",
    "DATA_DIR = pathlib.Path(CURRENT_DIR).joinpath(\"data\")\n",
    "TFX_DIR = pathlib.Path(CURRENT_DIR).joinpath(\"out/tfx\").joinpath(PIPELINE_NAME)\n",
    "# Output directory to store artifacts generated from the pipeline.\n",
    "PIPELINE_ROOT = TFX_DIR.joinpath('pipelines')\n",
    "# Path to a SQLite DB file to use as an MLMD storage.\n",
    "METADATA_PATH = TFX_DIR.joinpath('metadata')\n",
    "# Output directory where created models from the pipeline will be exported.\n",
    "SERVING_MODEL_DIR = TFX_DIR.joinpath('serving_model')\n",
    "###########################Set up variables#####################################################################\n",
    "print(\"Data dir: %s\" % DATA_DIR)\n",
    "print(\"tfx dir: %s\" % TFX_DIR)\n",
    "print(\"Pipelines root: %s\" % PIPELINE_ROOT)"
   ]
  },
  {
   "cell_type": "code",
   "execution_count": 5,
   "id": "85552eee",
   "metadata": {},
   "outputs": [],
   "source": [
    "Utils.download(datadir=DATA_DIR, competition=COMPETITION)"
   ]
  },
  {
   "cell_type": "code",
   "execution_count": 6,
   "id": "55421c3b",
   "metadata": {},
   "outputs": [
    {
     "name": "stderr",
     "output_type": "stream",
     "text": [
      "WARNING:absl:InteractiveContext metadata_connection_config not provided: using SQLite ML Metadata database at /Users/ismailsimsek/development/StoreSalesTimeSeriesForecasting/out/tfx/store-sales-time-series-forecasting/pipelines/metadata.sqlite.\n"
     ]
    }
   ],
   "source": [
    "# Declare the InteractiveContext and use a local sqlite file as the metadata store.\n",
    "# You can ignore the warning about the missing metadata config file\n",
    "context = InteractiveContext(pipeline_root=PIPELINE_ROOT.as_posix())"
   ]
  },
  {
   "cell_type": "code",
   "execution_count": 7,
   "id": "0ec4677e",
   "metadata": {},
   "outputs": [],
   "source": [
    "# NOTE! query inputs are using following config by default\n",
    "# ```input_config = example_gen_pb2.Input(splits=[\n",
    "#       example_gen_pb2.Input.Split(name='single_split', pattern=split_pattern)\n",
    "#   ])\n",
    "# ```\n",
    "input_config = example_gen_pb2.Input(splits=[\n",
    "    example_gen_pb2.Input.Split(name='train', pattern=rawdata_duckdb_sql(data=\"train\")),\n",
    "    example_gen_pb2.Input.Split(name='eval', pattern=rawdata_duckdb_sql(data=\"test\")),\n",
    "])\n",
    "output = proto.Output(\n",
    "             split_config=example_gen_pb2.SplitConfig(splits=[\n",
    "                 proto.SplitConfig.Split(name='train', hash_buckets=8),\n",
    "                 proto.SplitConfig.Split(name='eval', hash_buckets=2)\n",
    "             ]))\n",
    "\n",
    "# example_gen = DuckDBExampleGen(input_config=input_config)\n",
    "example_gen = DuckDBExampleGen(query=rawdata_duckdb_sql(data=\"train\"), output_config=output)"
   ]
  },
  {
   "cell_type": "code",
   "execution_count": 8,
   "id": "dc7eb819",
   "metadata": {
    "scrolled": false
   },
   "outputs": [
    {
     "name": "stderr",
     "output_type": "stream",
     "text": [
      "INFO:absl:Running driver for DuckDBExampleGen\n",
      "INFO:absl:MetadataStore with DB connection initialized\n",
      "INFO:absl:Running executor for DuckDBExampleGen\n",
      "INFO:absl:Generating examples.\n"
     ]
    },
    {
     "data": {
      "application/javascript": [
       "\n",
       "        if (typeof window.interactive_beam_jquery == 'undefined') {\n",
       "          var jqueryScript = document.createElement('script');\n",
       "          jqueryScript.src = 'https://code.jquery.com/jquery-3.4.1.slim.min.js';\n",
       "          jqueryScript.type = 'text/javascript';\n",
       "          jqueryScript.onload = function() {\n",
       "            var datatableScript = document.createElement('script');\n",
       "            datatableScript.src = 'https://cdn.datatables.net/1.10.20/js/jquery.dataTables.min.js';\n",
       "            datatableScript.type = 'text/javascript';\n",
       "            datatableScript.onload = function() {\n",
       "              window.interactive_beam_jquery = jQuery.noConflict(true);\n",
       "              window.interactive_beam_jquery(document).ready(function($){\n",
       "                \n",
       "              });\n",
       "            }\n",
       "            document.head.appendChild(datatableScript);\n",
       "          };\n",
       "          document.head.appendChild(jqueryScript);\n",
       "        } else {\n",
       "          window.interactive_beam_jquery(document).ready(function($){\n",
       "            \n",
       "          });\n",
       "        }"
      ]
     },
     "metadata": {},
     "output_type": "display_data"
    },
    {
     "data": {
      "application/vnd.jupyter.widget-view+json": {
       "model_id": "36b8f342ff0242ceb08109bc199a1572",
       "version_major": 2,
       "version_minor": 0
      },
      "text/plain": [
       "FloatProgress(value=0.0, layout=Layout(width='100%'), style=ProgressStyle(bar_color='black'))"
      ]
     },
     "metadata": {},
     "output_type": "display_data"
    },
    {
     "name": "stderr",
     "output_type": "stream",
     "text": [
      "WARNING:apache_beam.options.pipeline_options:Discarding unparseable args: ['/Users/ismailsimsek/.conda/envs/StoreSalesTimeSeriesForecasting/lib/python3.8/site-packages/ipykernel_launcher.py', '-f', '/Users/ismailsimsek/Library/Jupyter/runtime/kernel-34d88043-adaf-4d5a-adc8-64e8494f5378.json']\n",
      "WARNING:apache_beam.options.pipeline_options:Discarding unparseable args: ['/Users/ismailsimsek/.conda/envs/StoreSalesTimeSeriesForecasting/lib/python3.8/site-packages/ipykernel_launcher.py', '-f', '/Users/ismailsimsek/Library/Jupyter/runtime/kernel-34d88043-adaf-4d5a-adc8-64e8494f5378.json']\n",
      "WARNING:apache_beam.options.pipeline_options:Discarding unparseable args: ['/Users/ismailsimsek/.conda/envs/StoreSalesTimeSeriesForecasting/lib/python3.8/site-packages/ipykernel_launcher.py', '-f', '/Users/ismailsimsek/Library/Jupyter/runtime/kernel-34d88043-adaf-4d5a-adc8-64e8494f5378.json']\n",
      "\n",
      "KeyboardInterrupt\n",
      "\n"
     ]
    }
   ],
   "source": [
    "context.run(example_gen)"
   ]
  },
  {
   "cell_type": "code",
   "execution_count": null,
   "id": "edabc978",
   "metadata": {},
   "outputs": [],
   "source": [
    "print(execution_result)\n",
    "print(example_gen)\n",
    "print('----------------------')\n",
    "# Computes statistics over data for visualization and example validation.\n",
    "statistics_gen = StatisticsGen(examples=example_gen.outputs['examples'])\n",
    "print('----------------------')\n",
    "print(statistics_gen)\n",
    "print('----------------------')\n",
    "\n",
    "# Generates schema based on statistics files.\n",
    "schema_gen = SchemaGen(statistics=statistics_gen.outputs['statistics'], infer_feature_shape=True)\n",
    "print('----------------------')\n",
    "print(schema_gen)\n",
    "print('----------------------')\n",
    "\n",
    "# Performs anomaly detection based on statistics and data schema.\n",
    "example_validator = ExampleValidator(\n",
    "    statistics=statistics_gen.outputs['statistics'],\n",
    "    schema=schema_gen.outputs['schema'])\n",
    "\n",
    "# Computes statistics over data for visualization and example validation.\n",
    "statistics_gen = StatisticsGen(examples=example_gen.outputs['examples'])\n",
    "print('----------------------')\n",
    "print(statistics_gen)\n",
    "print('----------------------')"
   ]
  },
  {
   "cell_type": "code",
   "execution_count": null,
   "id": "5ed9dc61",
   "metadata": {},
   "outputs": [],
   "source": []
  }
 ],
 "metadata": {
  "kernelspec": {
   "display_name": "Python 3 (ipykernel)",
   "language": "python",
   "name": "python3"
  },
  "language_info": {
   "codemirror_mode": {
    "name": "ipython",
    "version": 3
   },
   "file_extension": ".py",
   "mimetype": "text/x-python",
   "name": "python",
   "nbconvert_exporter": "python",
   "pygments_lexer": "ipython3",
   "version": "3.8.16"
  }
 },
 "nbformat": 4,
 "nbformat_minor": 5
}
